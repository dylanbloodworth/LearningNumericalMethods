{
 "cells": [
  {
   "cell_type": "code",
   "execution_count": 1,
   "metadata": {},
   "outputs": [],
   "source": [
    "import matplotlib.pyplot as plt\n",
    "import numpy as np"
   ]
  },
  {
   "attachments": {},
   "cell_type": "markdown",
   "metadata": {},
   "source": [
    "I'm trying to learn how to simulate the three body problem numerically. To do this first, I need to remember how to discretize Newton's EoM\n",
    "\n",
    "\\begin{equation}\n",
    "    \\vec{F} = m\\vec{\\ddot{r}}\n",
    "\\end{equation}\n",
    "\n",
    "Instead of solving a 2nd order ODE, we will instead rewrite this equation as two 1st order ODEs\n",
    "\n",
    "\\begin{align}\n",
    "    \\vec{F} &= m\\frac{d\\vec{v}}{dt}\\\\\n",
    "    \\vec{v} &= \\frac{d\\vec{r}}{dt}\n",
    "\\end{align}\n",
    "\n",
    "Let's attempt to write code for this"
   ]
  },
  {
   "attachments": {},
   "cell_type": "markdown",
   "metadata": {},
   "source": [
    "### Code for the ODE's"
   ]
  },
  {
   "attachments": {},
   "cell_type": "markdown",
   "metadata": {},
   "source": [
    "We want to discretize the ODEs, so let's rewrite them to better suit writing them for code\n",
    "\n",
    "\\begin{align}\n",
    "    v_{i+1} = v_{i} + \\frac{F}{m}dt \\\\\n",
    "    r_{i+1} = r_i + v_{i}dt\n",
    "\\end{align}"
   ]
  },
  {
   "cell_type": "code",
   "execution_count": 2,
   "metadata": {},
   "outputs": [
    {
     "data": {
      "text/plain": [
       "'\\n#Set up the initial conditions and time steps\\nr0 = 0\\nv0 = 0\\nF = 2\\nm = 10\\ndt = 0.1\\n\\n\\nfor i in range(0,100):\\n    vf = v0 + (F/m) * dt\\n    rf = r0 + v0 * dt\\n\\n    v0 = vf\\n    r0 = rf\\n\\n'"
      ]
     },
     "execution_count": 2,
     "metadata": {},
     "output_type": "execute_result"
    }
   ],
   "source": [
    "'''\n",
    "#Set up the initial conditions and time steps\n",
    "r0 = 0\n",
    "v0 = 0\n",
    "F = 2\n",
    "m = 10\n",
    "dt = 0.1\n",
    "\n",
    "\n",
    "for i in range(0,100):\n",
    "    vf = v0 + (F/m) * dt\n",
    "    rf = r0 + v0 * dt\n",
    "\n",
    "    v0 = vf\n",
    "    r0 = rf\n",
    "\n",
    "'''\n",
    "\n"
   ]
  },
  {
   "attachments": {},
   "cell_type": "markdown",
   "metadata": {},
   "source": [
    "We now want to try a simple example code. Let's launch a Projectile in the air.\n",
    "\n",
    "### Launch a projectile!\n",
    "\n",
    "To do this, we only need to change the F/m to a -9.8 m/s^2 in the Euler method"
   ]
  },
  {
   "cell_type": "code",
   "execution_count": 3,
   "metadata": {},
   "outputs": [
    {
     "name": "stdout",
     "output_type": "stream",
     "text": [
      "[0.  0.2 0.4 0.6 0.8 1.  1.2 1.4 1.6 1.8 2. ]\n",
      "[ 0.     0.3    0.502  0.606  0.612  0.52   0.33   0.042 -0.344 -0.828\n",
      " -1.41 ]\n",
      "[0.  0.1 0.2 0.3 0.4 0.5 0.6 0.7 0.8 0.9 1. ]\n"
     ]
    }
   ],
   "source": [
    "#Set up the initial conditions and time steps\n",
    "n = 10\n",
    "dt = 1/n\n",
    "\n",
    "x = np.empty([n+1])\n",
    "y = np.empty([n+1])\n",
    "vx = np.empty([n+1])\n",
    "vy = np.empty([n+1])\n",
    "t = np.empty([n+1])\n",
    "\n",
    "x[0] = 0\n",
    "y[0] = 0\n",
    "vx[0] = 2\n",
    "vy[0] = 3\n",
    "t[0] = 0\n",
    "\n",
    "for i in range(0,n):\n",
    "\n",
    "    t[i+1] = t[i] + dt\n",
    "\n",
    "    #x direction\n",
    "    vx[i+1] = vx[i]\n",
    "    x[i+1] = x[i] + vx[i] * dt\n",
    "\n",
    "    #y direction\n",
    "    vy[i+1] = vy[i] - 9.8 * dt\n",
    "    y[i+1] = y[i] + vy[i] * dt\n",
    "\n",
    "\n",
    "print(x)\n",
    "print(y)\n",
    "print(t)"
   ]
  },
  {
   "cell_type": "code",
   "execution_count": 4,
   "metadata": {},
   "outputs": [
    {
     "data": {
      "image/png": "[encoded data removed]",
      "text/plain": [
       "<Figure size 640x480 with 1 Axes>"
      ]
     },
     "metadata": {},
     "output_type": "display_data"
    }
   ],
   "source": [
    "plt.scatter(x,y)\n",
    "plt.show()"
   ]
  }
 ],
 "metadata": {
  "kernelspec": {
   "display_name": "Python 3",
   "language": "python",
   "name": "python3"
  },
  "language_info": {
   "codemirror_mode": {
    "name": "ipython",
    "version": 3
   },
   "file_extension": ".py",
   "mimetype": "text/x-python",
   "name": "python",
   "nbconvert_exporter": "python",
   "pygments_lexer": "ipython3",
   "version": "3.11.3"
  },
  "orig_nbformat": 4
 },
 "nbformat": 4,
 "nbformat_minor": 2
}
